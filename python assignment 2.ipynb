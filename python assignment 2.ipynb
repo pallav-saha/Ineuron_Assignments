{
 "cells": [
  {
   "cell_type": "code",
   "execution_count": null,
   "metadata": {},
   "outputs": [],
   "source": [
    "Q1"
   ]
  },
  {
   "cell_type": "code",
   "execution_count": 1,
   "metadata": {},
   "outputs": [
    {
     "name": "stdout",
     "output_type": "stream",
     "text": [
      "*    \n",
      "**   \n",
      "***  \n",
      "**** \n",
      "*****\n",
      "**** \n",
      "***  \n",
      "**   \n",
      "*    \n"
     ]
    }
   ],
   "source": [
    "for row in range(9):\n",
    "    for col in range(5):\n",
    "        if col==0 or (col==1 and (row>0 and row<8)) or (col==2 and (row>1 and row<7)) or (col==3 and (row>2 and row<6)) or (col==4 and row==4):\n",
    "            print(\"*\",end=\"\")\n",
    "        else:\n",
    "            print(\" \",end=\"\")\n",
    "    print()"
   ]
  },
  {
   "cell_type": "code",
   "execution_count": null,
   "metadata": {},
   "outputs": [],
   "source": [
    "Q2"
   ]
  },
  {
   "cell_type": "code",
   "execution_count": 10,
   "metadata": {},
   "outputs": [
    {
     "name": "stdout",
     "output_type": "stream",
     "text": [
      "enter a string ineuron\n",
      "norueni\n"
     ]
    }
   ],
   "source": [
    "#reverse a string\n",
    "var=input(\"enter a string \")\n",
    "new_var=\"\"\n",
    "for i in var:\n",
    "    new_var=i+new_var\n",
    "print(new_var)"
   ]
  },
  {
   "cell_type": "code",
   "execution_count": null,
   "metadata": {},
   "outputs": [],
   "source": []
  }
 ],
 "metadata": {
  "kernelspec": {
   "display_name": "Python 3",
   "language": "python",
   "name": "python3"
  },
  "language_info": {
   "codemirror_mode": {
    "name": "ipython",
    "version": 3
   },
   "file_extension": ".py",
   "mimetype": "text/x-python",
   "name": "python",
   "nbconvert_exporter": "python",
   "pygments_lexer": "ipython3",
   "version": "3.8.3"
  }
 },
 "nbformat": 4,
 "nbformat_minor": 4
}
